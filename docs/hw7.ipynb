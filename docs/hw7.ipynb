{
  "cells": [
    {
      "cell_type": "raw",
      "metadata": {},
      "source": [
        "---\n",
        "title: \"hw7\"\n",
        "format: html\n",
        "editor: visual\n",
        "---"
      ],
      "id": "220eec7b"
    },
    {
      "cell_type": "markdown",
      "metadata": {},
      "source": [
        "## Challenge: investigate:\n",
        "\n",
        "Challenge: Investigate\n",
        "\n",
        "How our business compares to other businesses (over time and in February 2020)\n",
        "How the components of the net promoter score for our business have changed over time\n",
        "\n",
        "1. In February 2020, our business was performing well, with only three other businesses boasting higher NPS scores. Also, comparing our business's promoter rating over time, we also had the highest number of promoter in February 2020.\n",
        "\n",
        "2. Previously, in 2019, only competitor A showed a slightly negative trend(but it still remains the highest rank) whereas our company and competitor B,C and D showed no change or slight increase. After December 2019, our business consistently held the fourth position and demonstrated a slight positive change over time.\n",
        "\n",
        "While passive responses dominated initially, they decreased toward the end. Both detractor and promoter responses exhibited growth, with promoter responses becoming the highest among all over time.\n",
        "\n",
        "## Create a graphic that shows how many respondents there were in each country. Present the countries in an order that is more interesting than alphabetical. Were they roughly equal or were there notable difference among the countries?\n"
      ],
      "id": "06d68070"
    },
    {
      "cell_type": "code",
      "metadata": {},
      "source": [
        "q2_data =\"https://calvin-data304.netlify.app/data/wvs.csv\"\n",
        "q2 = pd.read_csv(q2_data)\n",
        "q2_count = q2.groupby(\"country\").size().reset_index(name='count')\n",
        "q2_count.head"
      ],
      "id": "2a84f526",
      "execution_count": null,
      "outputs": []
    },
    {
      "cell_type": "code",
      "metadata": {},
      "source": [
        "# grpah for q2\n",
        "\n",
        "alt.Chart(q2_count).mark_bar().encode(\n",
        "  x = \"count:Q\",\n",
        "  y = alt.Y(\"country:N\").sort(\"-x\"),\n",
        ")"
      ],
      "id": "461a6fca",
      "execution_count": null,
      "outputs": []
    },
    {
      "cell_type": "markdown",
      "metadata": {},
      "source": [
        "## There are three age-related variables: age, age3, and age6. The latter two put respondents into 3 and 6 age groups respectively. Create graphics that let you see what the age groupings are and check whether these are the same across all the countries."
      ],
      "id": "20de6a84"
    },
    {
      "cell_type": "code",
      "metadata": {},
      "source": [
        "import altair as alt\n",
        "\n",
        "# Assuming q2 contains the data with age-related variables (age, age3, age6) for each country\n",
        "\n",
        "# Sample the data to reduce the number of rows\n",
        "sampled_q2 = q2.sample(n=5000, random_state=42)  # Adjust the number of samples as needed\n",
        "\n",
        "\n",
        "# Create a stacked bar chart for the 'age3' variable\n",
        "chart_age3 = alt.Chart(sampled_q2).mark_bar().encode(\n",
        "    x=alt.X('country:N', title='country'),\n",
        "    y=alt.Y('age3:N', title='age3'),\n",
        "    color=alt.Color('age:N', title='age')\n",
        ").properties(\n",
        "    width=400,\n",
        "    height=300,\n",
        "    title='Distribution of Age Groups (age3)'\n",
        ")\n",
        "\n",
        "# Create a stacked bar chart for the 'age6' variable\n",
        "chart_age6 = alt.Chart(sampled_q2).mark_line().encode(\n",
        "    x=alt.X('age6:N', title='Age Group'),\n",
        "    y=alt.Y('count()', title='Count'),\n",
        "    color=alt.Color('country:N', title='Country')\n",
        ").properties(\n",
        "    width=400,\n",
        "    height=300,\n",
        "    title='Distribution of Age Groups (age6)'\n",
        ")\n",
        "\n",
        "# Arrange the charts horizontally\n",
        "chart = alt.hconcat(chart_age3, chart_age6)\n",
        "\n",
        "chart"
      ],
      "id": "035bb993",
      "execution_count": null,
      "outputs": []
    },
    {
      "cell_type": "code",
      "metadata": {},
      "source": [
        "import altair as alt\n",
        "from IPython.display import display  # Import display function\n",
        "\n",
        "# Assuming q2 contains the data with age-related variables (age, age3, age6) for each country\n",
        "alt.data_transformers.disable_max_rows()\n",
        "# Melt the DataFrame to long format for easier plotting\n",
        "sampled_q2_2_melt = pd.melt(q2, id_vars=['country', \"age3\"], value_vars = [\"age\"])\n",
        "sampled_q2_2_melt.drop(columns=['variable'], inplace=True)\n",
        "\n",
        "# Create a grouped bar chart\n",
        "\n",
        "histograms = alt.Chart(sampled_q2_2_melt).mark_bar().encode(\n",
        "    x=alt.X('age:Q', title='Age Group'),\n",
        "    y=alt.Y('age3:N', title='Frequency'),\n",
        "    color=alt.Color('country:N', title='Country'),\n",
        "    column=alt.Column('country:N', title='Age Variable')\n",
        ").properties(\n",
        "    width=200,\n",
        "    height=200\n",
        ")\n",
        "histograms"
      ],
      "id": "63b0ed89",
      "execution_count": null,
      "outputs": []
    }
  ],
  "metadata": {
    "kernelspec": {
      "name": "python3",
      "language": "python",
      "display_name": "Python 3 (ipykernel)"
    }
  },
  "nbformat": 4,
  "nbformat_minor": 5
}